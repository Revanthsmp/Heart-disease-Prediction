{
 "cells": [
  {
   "cell_type": "markdown",
   "id": "1d7e6cdb",
   "metadata": {},
   "source": [
    "# Heart disease prediction - Naive bayes classifier"
   ]
  },
  {
   "cell_type": "code",
   "execution_count": 1,
   "id": "1248b96e",
   "metadata": {},
   "outputs": [],
   "source": [
    "import pandas as pd\n",
    "import numpy as np\n",
    "\n",
    "from collections import Counter\n",
    "from sklearn.naive_bayes import GaussianNB\n",
    "from sklearn.model_selection import train_test_split\n",
    "from sklearn.metrics import confusion_matrix, classification_report"
   ]
  },
  {
   "cell_type": "code",
   "execution_count": 2,
   "id": "af8f8453",
   "metadata": {},
   "outputs": [
    {
     "name": "stdout",
     "output_type": "stream",
     "text": [
      "shape of the data : (rows,columns)\n",
      "(918, 12)\n",
      "Rank of the data : \n",
      "2\n",
      "Size of data : \n",
      "11016\n"
     ]
    }
   ],
   "source": [
    "data = pd.read_csv(r\"D:\\Dataset\\heart - Medical(kaggle).csv\")\n",
    "print(\"shape of the data : (rows,columns)\")\n",
    "print(np.shape(data))\n",
    "print(\"Rank of the data : \")\n",
    "print(np.ndim(data))\n",
    "print(\"Size of data : \")\n",
    "print(np.size(data))"
   ]
  },
  {
   "cell_type": "code",
   "execution_count": 3,
   "id": "8c2f4bb6",
   "metadata": {},
   "outputs": [
    {
     "name": "stdout",
     "output_type": "stream",
     "text": [
      "Age\n",
      "Sex\n",
      "ChestPainType\n",
      "RestingBP\n",
      "Cholesterol\n",
      "FastingBS\n",
      "RestingECG\n",
      "MaxHR\n",
      "ExerciseAngina\n",
      "Oldpeak\n",
      "ST_Slope\n",
      "HeartDisease\n"
     ]
    }
   ],
   "source": [
    "#getting attribute names\n",
    "\n",
    "for col in data.columns :\n",
    "    print(col)"
   ]
  },
  {
   "cell_type": "code",
   "execution_count": 4,
   "id": "e0569afc",
   "metadata": {},
   "outputs": [
    {
     "name": "stdout",
     "output_type": "stream",
     "text": [
      "=======================================================================\n",
      "Original dataset :\n",
      "=======================================================================\n",
      "   Age Sex ChestPainType  RestingBP  Cholesterol  FastingBS RestingECG  MaxHR  \\\n",
      "0   40   M           ATA        140          289          0     Normal    172   \n",
      "1   49   F           NAP        160          180          0     Normal    156   \n",
      "2   37   M           ATA        130          283          0         ST     98   \n",
      "3   48   F           ASY        138          214          0     Normal    108   \n",
      "4   54   M           NAP        150          195          0     Normal    122   \n",
      "\n",
      "  ExerciseAngina  Oldpeak ST_Slope  HeartDisease  \n",
      "0              N      0.0       Up             0  \n",
      "1              N      1.0     Flat             1  \n",
      "2              N      0.0       Up             0  \n",
      "3              Y      1.5     Flat             1  \n",
      "4              N      0.0       Up             0  \n",
      "=======================================================================\n",
      "modified_dataset : \n",
      "=======================================================================\n",
      "   Age Gender ChestPainType  RestingBP  Cholesterol  FastingBS RestingECG  \\\n",
      "0   40      1             1        140          289          0          1   \n",
      "1   49      0             2        160          180          0          1   \n",
      "2   37      1             1        130          283          0          2   \n",
      "3   48      0             3        138          214          0          1   \n",
      "4   54      1             2        150          195          0          1   \n",
      "\n",
      "   MaxHR ExerciseAngina  Oldpeak ST_Slope  HeartDisease  \n",
      "0    172              0      0.0        1             0  \n",
      "1    156              0      1.0        0             1  \n",
      "2     98              0      0.0        1             0  \n",
      "3    108              1      1.5        0             1  \n",
      "4    122              0      0.0        1             0  \n"
     ]
    }
   ],
   "source": [
    "print(\"=======================================================================\")\n",
    "print(\"Original dataset :\")\n",
    "print(\"=======================================================================\")\n",
    "print(data.head())\n",
    "print(\"=======================================================================\")\n",
    "print(\"modified_dataset : \")\n",
    "print(\"=======================================================================\")\n",
    "\n",
    "data = data.rename(columns = {\"Sex\" : \"Gender\"})\n",
    "\n",
    "data.loc[data[\"Gender\"] == \"M\",\"Gender\"] = 1\n",
    "data.loc[data[\"Gender\"] == \"F\",\"Gender\"] = 0\n",
    "\n",
    "data.ChestPainType.unique()\n",
    "data.loc[data[\"ChestPainType\"] == \"ATA\",\"ChestPainType\"] = 1\n",
    "data.loc[data[\"ChestPainType\"] == \"NAP\",\"ChestPainType\"] = 2\n",
    "data.loc[data[\"ChestPainType\"] == \"ASY\",\"ChestPainType\"] = 3\n",
    "data.loc[data[\"ChestPainType\"] == \"TA\",\"ChestPainType\"] = 4\n",
    "\n",
    "data.RestingECG.unique()\n",
    "data.loc[data[\"RestingECG\"] == \"Normal\",\"RestingECG\"] = 1\n",
    "data.loc[data[\"RestingECG\"] == \"ST\",\"RestingECG\"] = 2\n",
    "data.loc[data[\"RestingECG\"] == \"LVH\",\"RestingECG\"] = 3\n",
    "\n",
    "data.ExerciseAngina.unique()\n",
    "data.loc[data[\"ExerciseAngina\"] == \"Y\",\"ExerciseAngina\"] = 1\n",
    "data.loc[data[\"ExerciseAngina\"] == \"N\",\"ExerciseAngina\"] = 0\n",
    "\n",
    "data.ST_Slope.unique()\n",
    "data.loc[data[\"ST_Slope\"] == \"Up\",\"ST_Slope\"] = 1\n",
    "data.loc[data[\"ST_Slope\"] == \"Flat\",\"ST_Slope\"] = 0\n",
    "data.loc[data[\"ST_Slope\"] == \"Down\",\"ST_Slope\"] = -1\n",
    "\n",
    "print(data.head())"
   ]
  },
  {
   "cell_type": "code",
   "execution_count": 5,
   "id": "3f3de6e3",
   "metadata": {},
   "outputs": [],
   "source": [
    "X = data.drop(\"HeartDisease\", axis = 1)\n",
    "#axis parameter denotes the action where it is to be perform -(0: row, 1: column)"
   ]
  },
  {
   "cell_type": "code",
   "execution_count": 6,
   "id": "68c7b821",
   "metadata": {},
   "outputs": [],
   "source": [
    "y = data.loc[:,\"HeartDisease\"]"
   ]
  },
  {
   "cell_type": "code",
   "execution_count": 7,
   "id": "8d7a468c",
   "metadata": {},
   "outputs": [],
   "source": [
    "X_train, X_test, y_train, y_test = train_test_split(X, y, test_size = .25, random_state = 1)\n",
    "#random_state is to get the same sequence of random numbers(pseudo random number generator) for multiple time running of code"
   ]
  },
  {
   "cell_type": "code",
   "execution_count": 8,
   "id": "a618912f",
   "metadata": {},
   "outputs": [
    {
     "data": {
      "text/html": [
       "<div>\n",
       "<style scoped>\n",
       "    .dataframe tbody tr th:only-of-type {\n",
       "        vertical-align: middle;\n",
       "    }\n",
       "\n",
       "    .dataframe tbody tr th {\n",
       "        vertical-align: top;\n",
       "    }\n",
       "\n",
       "    .dataframe thead th {\n",
       "        text-align: right;\n",
       "    }\n",
       "</style>\n",
       "<table border=\"1\" class=\"dataframe\">\n",
       "  <thead>\n",
       "    <tr style=\"text-align: right;\">\n",
       "      <th></th>\n",
       "      <th>Age</th>\n",
       "      <th>Gender</th>\n",
       "      <th>ChestPainType</th>\n",
       "      <th>RestingBP</th>\n",
       "      <th>Cholesterol</th>\n",
       "      <th>FastingBS</th>\n",
       "      <th>RestingECG</th>\n",
       "      <th>MaxHR</th>\n",
       "      <th>ExerciseAngina</th>\n",
       "      <th>Oldpeak</th>\n",
       "      <th>ST_Slope</th>\n",
       "    </tr>\n",
       "  </thead>\n",
       "  <tbody>\n",
       "    <tr>\n",
       "      <th>41</th>\n",
       "      <td>54</td>\n",
       "      <td>0</td>\n",
       "      <td>2</td>\n",
       "      <td>130</td>\n",
       "      <td>294</td>\n",
       "      <td>0</td>\n",
       "      <td>2</td>\n",
       "      <td>100</td>\n",
       "      <td>1</td>\n",
       "      <td>0.0</td>\n",
       "      <td>0</td>\n",
       "    </tr>\n",
       "    <tr>\n",
       "      <th>891</th>\n",
       "      <td>66</td>\n",
       "      <td>0</td>\n",
       "      <td>2</td>\n",
       "      <td>146</td>\n",
       "      <td>278</td>\n",
       "      <td>0</td>\n",
       "      <td>3</td>\n",
       "      <td>152</td>\n",
       "      <td>0</td>\n",
       "      <td>0.0</td>\n",
       "      <td>0</td>\n",
       "    </tr>\n",
       "    <tr>\n",
       "      <th>265</th>\n",
       "      <td>54</td>\n",
       "      <td>1</td>\n",
       "      <td>1</td>\n",
       "      <td>160</td>\n",
       "      <td>305</td>\n",
       "      <td>0</td>\n",
       "      <td>1</td>\n",
       "      <td>175</td>\n",
       "      <td>0</td>\n",
       "      <td>0.0</td>\n",
       "      <td>1</td>\n",
       "    </tr>\n",
       "    <tr>\n",
       "      <th>177</th>\n",
       "      <td>59</td>\n",
       "      <td>1</td>\n",
       "      <td>1</td>\n",
       "      <td>140</td>\n",
       "      <td>287</td>\n",
       "      <td>0</td>\n",
       "      <td>1</td>\n",
       "      <td>150</td>\n",
       "      <td>0</td>\n",
       "      <td>0.0</td>\n",
       "      <td>1</td>\n",
       "    </tr>\n",
       "    <tr>\n",
       "      <th>241</th>\n",
       "      <td>54</td>\n",
       "      <td>1</td>\n",
       "      <td>3</td>\n",
       "      <td>200</td>\n",
       "      <td>198</td>\n",
       "      <td>0</td>\n",
       "      <td>1</td>\n",
       "      <td>142</td>\n",
       "      <td>1</td>\n",
       "      <td>2.0</td>\n",
       "      <td>0</td>\n",
       "    </tr>\n",
       "  </tbody>\n",
       "</table>\n",
       "</div>"
      ],
      "text/plain": [
       "     Age Gender ChestPainType  RestingBP  Cholesterol  FastingBS RestingECG  \\\n",
       "41    54      0             2        130          294          0          2   \n",
       "891   66      0             2        146          278          0          3   \n",
       "265   54      1             1        160          305          0          1   \n",
       "177   59      1             1        140          287          0          1   \n",
       "241   54      1             3        200          198          0          1   \n",
       "\n",
       "     MaxHR ExerciseAngina  Oldpeak ST_Slope  \n",
       "41     100              1      0.0        0  \n",
       "891    152              0      0.0        0  \n",
       "265    175              0      0.0        1  \n",
       "177    150              0      0.0        1  \n",
       "241    142              1      2.0        0  "
      ]
     },
     "execution_count": 8,
     "metadata": {},
     "output_type": "execute_result"
    }
   ],
   "source": [
    "X_train.head()"
   ]
  },
  {
   "cell_type": "code",
   "execution_count": 9,
   "id": "a15641ca",
   "metadata": {},
   "outputs": [
    {
     "data": {
      "text/plain": [
       "41     1\n",
       "891    0\n",
       "265    0\n",
       "177    0\n",
       "241    1\n",
       "Name: HeartDisease, dtype: int64"
      ]
     },
     "execution_count": 9,
     "metadata": {},
     "output_type": "execute_result"
    }
   ],
   "source": [
    "y_train.head()"
   ]
  },
  {
   "cell_type": "code",
   "execution_count": 10,
   "id": "fa5201d1",
   "metadata": {},
   "outputs": [
    {
     "data": {
      "text/html": [
       "<div>\n",
       "<style scoped>\n",
       "    .dataframe tbody tr th:only-of-type {\n",
       "        vertical-align: middle;\n",
       "    }\n",
       "\n",
       "    .dataframe tbody tr th {\n",
       "        vertical-align: top;\n",
       "    }\n",
       "\n",
       "    .dataframe thead th {\n",
       "        text-align: right;\n",
       "    }\n",
       "</style>\n",
       "<table border=\"1\" class=\"dataframe\">\n",
       "  <thead>\n",
       "    <tr style=\"text-align: right;\">\n",
       "      <th></th>\n",
       "      <th>Age</th>\n",
       "      <th>Gender</th>\n",
       "      <th>ChestPainType</th>\n",
       "      <th>RestingBP</th>\n",
       "      <th>Cholesterol</th>\n",
       "      <th>FastingBS</th>\n",
       "      <th>RestingECG</th>\n",
       "      <th>MaxHR</th>\n",
       "      <th>ExerciseAngina</th>\n",
       "      <th>Oldpeak</th>\n",
       "      <th>ST_Slope</th>\n",
       "    </tr>\n",
       "  </thead>\n",
       "  <tbody>\n",
       "    <tr>\n",
       "      <th>900</th>\n",
       "      <td>58</td>\n",
       "      <td>1</td>\n",
       "      <td>3</td>\n",
       "      <td>114</td>\n",
       "      <td>318</td>\n",
       "      <td>0</td>\n",
       "      <td>2</td>\n",
       "      <td>140</td>\n",
       "      <td>0</td>\n",
       "      <td>4.4</td>\n",
       "      <td>-1</td>\n",
       "    </tr>\n",
       "    <tr>\n",
       "      <th>570</th>\n",
       "      <td>56</td>\n",
       "      <td>1</td>\n",
       "      <td>3</td>\n",
       "      <td>128</td>\n",
       "      <td>223</td>\n",
       "      <td>0</td>\n",
       "      <td>2</td>\n",
       "      <td>119</td>\n",
       "      <td>1</td>\n",
       "      <td>2.0</td>\n",
       "      <td>-1</td>\n",
       "    </tr>\n",
       "    <tr>\n",
       "      <th>791</th>\n",
       "      <td>51</td>\n",
       "      <td>1</td>\n",
       "      <td>3</td>\n",
       "      <td>140</td>\n",
       "      <td>298</td>\n",
       "      <td>0</td>\n",
       "      <td>1</td>\n",
       "      <td>122</td>\n",
       "      <td>1</td>\n",
       "      <td>4.2</td>\n",
       "      <td>0</td>\n",
       "    </tr>\n",
       "    <tr>\n",
       "      <th>189</th>\n",
       "      <td>53</td>\n",
       "      <td>1</td>\n",
       "      <td>3</td>\n",
       "      <td>180</td>\n",
       "      <td>285</td>\n",
       "      <td>0</td>\n",
       "      <td>2</td>\n",
       "      <td>120</td>\n",
       "      <td>1</td>\n",
       "      <td>1.5</td>\n",
       "      <td>0</td>\n",
       "    </tr>\n",
       "    <tr>\n",
       "      <th>372</th>\n",
       "      <td>63</td>\n",
       "      <td>1</td>\n",
       "      <td>3</td>\n",
       "      <td>185</td>\n",
       "      <td>0</td>\n",
       "      <td>0</td>\n",
       "      <td>1</td>\n",
       "      <td>98</td>\n",
       "      <td>1</td>\n",
       "      <td>0.0</td>\n",
       "      <td>1</td>\n",
       "    </tr>\n",
       "  </tbody>\n",
       "</table>\n",
       "</div>"
      ],
      "text/plain": [
       "     Age Gender ChestPainType  RestingBP  Cholesterol  FastingBS RestingECG  \\\n",
       "900   58      1             3        114          318          0          2   \n",
       "570   56      1             3        128          223          0          2   \n",
       "791   51      1             3        140          298          0          1   \n",
       "189   53      1             3        180          285          0          2   \n",
       "372   63      1             3        185            0          0          1   \n",
       "\n",
       "     MaxHR ExerciseAngina  Oldpeak ST_Slope  \n",
       "900    140              0      4.4       -1  \n",
       "570    119              1      2.0       -1  \n",
       "791    122              1      4.2        0  \n",
       "189    120              1      1.5        0  \n",
       "372     98              1      0.0        1  "
      ]
     },
     "execution_count": 10,
     "metadata": {},
     "output_type": "execute_result"
    }
   ],
   "source": [
    "X_test.head()"
   ]
  },
  {
   "cell_type": "code",
   "execution_count": 11,
   "id": "3dd9311c",
   "metadata": {},
   "outputs": [
    {
     "data": {
      "text/plain": [
       "900    1\n",
       "570    1\n",
       "791    1\n",
       "189    1\n",
       "372    1\n",
       "      ..\n",
       "880    0\n",
       "110    0\n",
       "120    1\n",
       "306    1\n",
       "889    1\n",
       "Name: HeartDisease, Length: 230, dtype: int64"
      ]
     },
     "execution_count": 11,
     "metadata": {},
     "output_type": "execute_result"
    }
   ],
   "source": [
    "y_test"
   ]
  },
  {
   "cell_type": "code",
   "execution_count": 12,
   "id": "fe5ab385",
   "metadata": {},
   "outputs": [
    {
     "name": "stdout",
     "output_type": "stream",
     "text": [
      "{'priors': None, 'var_smoothing': 1e-09}\n"
     ]
    }
   ],
   "source": [
    "gnb = GaussianNB()\n",
    "print(gnb.get_params())"
   ]
  },
  {
   "cell_type": "code",
   "execution_count": 13,
   "id": "774eddc2",
   "metadata": {},
   "outputs": [],
   "source": [
    "model1 = gnb.fit(X_train,y_train)"
   ]
  },
  {
   "cell_type": "code",
   "execution_count": 14,
   "id": "a89a7000",
   "metadata": {},
   "outputs": [],
   "source": [
    "y_pred1 = model1.predict(X_test)"
   ]
  },
  {
   "cell_type": "code",
   "execution_count": 15,
   "id": "6033154f",
   "metadata": {},
   "outputs": [
    {
     "name": "stdout",
     "output_type": "stream",
     "text": [
      "              precision    recall  f1-score   support\n",
      "\n",
      "           0       0.80      0.88      0.83        89\n",
      "           1       0.92      0.86      0.89       141\n",
      "\n",
      "    accuracy                           0.87       230\n",
      "   macro avg       0.86      0.87      0.86       230\n",
      "weighted avg       0.87      0.87      0.87       230\n",
      "\n",
      "[[ 78  11]\n",
      " [ 20 121]]\n",
      "actual count Counter({1: 141, 0: 89})\n",
      "machine predicted count Counter({1: 132, 0: 98})\n"
     ]
    }
   ],
   "source": [
    "print(classification_report(y_test, y_pred1))\n",
    "print(confusion_matrix(y_test, y_pred1))\n",
    "print('actual count',Counter(y_test))\n",
    "print('machine predicted count',Counter(y_pred1))"
   ]
  },
  {
   "cell_type": "markdown",
   "id": "5ceb1feb",
   "metadata": {},
   "source": [
    "# K means clustering - method 2"
   ]
  },
  {
   "cell_type": "code",
   "execution_count": 16,
   "id": "5ad45c59",
   "metadata": {},
   "outputs": [],
   "source": [
    "from sklearn.cluster import KMeans\n",
    "from sklearn.preprocessing import StandardScaler"
   ]
  },
  {
   "cell_type": "code",
   "execution_count": 17,
   "id": "df15ee23",
   "metadata": {},
   "outputs": [],
   "source": [
    "std = StandardScaler()\n",
    "stdX_train = std.fit_transform(X_train)\n",
    "stdX_test = std.fit_transform(X_test)"
   ]
  },
  {
   "cell_type": "code",
   "execution_count": 18,
   "id": "94b8ff78",
   "metadata": {},
   "outputs": [],
   "source": [
    "kmc = KMeans(n_clusters = 2)"
   ]
  },
  {
   "cell_type": "code",
   "execution_count": 19,
   "id": "e90361d4",
   "metadata": {},
   "outputs": [],
   "source": [
    "model2 = kmc.fit(stdX_train)"
   ]
  },
  {
   "cell_type": "code",
   "execution_count": 20,
   "id": "316eb101",
   "metadata": {},
   "outputs": [],
   "source": [
    "y_pred2 = model2.predict(stdX_test)"
   ]
  },
  {
   "cell_type": "code",
   "execution_count": 21,
   "id": "0d918cf8",
   "metadata": {},
   "outputs": [
    {
     "data": {
      "text/plain": [
       "array([[-0.48379884, -0.29195667, -0.54624713, -0.22249558,  0.29618077,\n",
       "        -0.28916789, -0.06986483,  0.56578107, -0.67981726, -0.56014293,\n",
       "         0.6949586 ],\n",
       "       [ 0.43063413,  0.25987352,  0.48621998,  0.19804552, -0.26363344,\n",
       "         0.2573912 ,  0.06218737, -0.50360733,  0.60511207,  0.49858876,\n",
       "        -0.61858953]])"
      ]
     },
     "execution_count": 21,
     "metadata": {},
     "output_type": "execute_result"
    }
   ],
   "source": [
    "centroid = kmc.cluster_centers_\n",
    "centroid"
   ]
  },
  {
   "cell_type": "code",
   "execution_count": 22,
   "id": "5c3ef4b4",
   "metadata": {},
   "outputs": [
    {
     "name": "stdout",
     "output_type": "stream",
     "text": [
      "              precision    recall  f1-score   support\n",
      "\n",
      "           0       0.75      0.87      0.80        89\n",
      "           1       0.91      0.82      0.86       141\n",
      "\n",
      "    accuracy                           0.83       230\n",
      "   macro avg       0.83      0.84      0.83       230\n",
      "weighted avg       0.84      0.83      0.84       230\n",
      "\n",
      "[[ 77  12]\n",
      " [ 26 115]]\n",
      "Counter({1: 141, 0: 89})\n",
      "Counter({1: 127, 0: 103})\n"
     ]
    }
   ],
   "source": [
    "print(classification_report(y_test, y_pred2))\n",
    "print(confusion_matrix(y_test, y_pred2))\n",
    "print(Counter(y_test))\n",
    "print(Counter(y_pred2))"
   ]
  },
  {
   "cell_type": "markdown",
   "id": "2969837b",
   "metadata": {},
   "source": [
    "# support vector machine"
   ]
  },
  {
   "cell_type": "code",
   "execution_count": 23,
   "id": "34ed755b",
   "metadata": {},
   "outputs": [],
   "source": [
    "from sklearn.svm import SVC\n",
    "import matplotlib.pyplot as plt"
   ]
  },
  {
   "cell_type": "code",
   "execution_count": 24,
   "id": "9ff32d1e",
   "metadata": {},
   "outputs": [
    {
     "data": {
      "text/plain": [
       "{'C': 1.0,\n",
       " 'break_ties': False,\n",
       " 'cache_size': 200,\n",
       " 'class_weight': None,\n",
       " 'coef0': 0.0,\n",
       " 'decision_function_shape': 'ovr',\n",
       " 'degree': 3,\n",
       " 'gamma': 'scale',\n",
       " 'kernel': 'rbf',\n",
       " 'max_iter': -1,\n",
       " 'probability': False,\n",
       " 'random_state': None,\n",
       " 'shrinking': True,\n",
       " 'tol': 0.001,\n",
       " 'verbose': False}"
      ]
     },
     "execution_count": 24,
     "metadata": {},
     "output_type": "execute_result"
    }
   ],
   "source": [
    "svc = SVC()\n",
    "svc.get_params()"
   ]
  },
  {
   "cell_type": "code",
   "execution_count": 25,
   "id": "818abbd1",
   "metadata": {},
   "outputs": [],
   "source": [
    "model2 = svc.fit(X_train,y_train)"
   ]
  },
  {
   "cell_type": "code",
   "execution_count": 26,
   "id": "1abad830",
   "metadata": {},
   "outputs": [],
   "source": [
    "y_pred2 = model2.predict(X_test)"
   ]
  },
  {
   "cell_type": "code",
   "execution_count": 27,
   "id": "e46ca86d",
   "metadata": {},
   "outputs": [
    {
     "name": "stdout",
     "output_type": "stream",
     "text": [
      "              precision    recall  f1-score   support\n",
      "\n",
      "           0       0.60      0.73      0.66        89\n",
      "           1       0.80      0.70      0.75       141\n",
      "\n",
      "    accuracy                           0.71       230\n",
      "   macro avg       0.70      0.71      0.70       230\n",
      "weighted avg       0.73      0.71      0.71       230\n",
      "\n",
      "[[65 24]\n",
      " [43 98]]\n",
      "Counter({1: 141, 0: 89})\n",
      "Counter({1: 122, 0: 108})\n"
     ]
    }
   ],
   "source": [
    "print(classification_report(y_test, y_pred2))\n",
    "print(confusion_matrix(y_test, y_pred2))\n",
    "print(Counter(y_test))\n",
    "print(Counter(y_pred2))"
   ]
  },
  {
   "cell_type": "markdown",
   "id": "9324ca3a",
   "metadata": {},
   "source": [
    "# Result :"
   ]
  },
  {
   "cell_type": "markdown",
   "id": "42cc4360",
   "metadata": {},
   "source": [
    "After trying out these 3 algorithms, Naive Bayes classifier algorithm has better accuracy for this particular dataset. "
   ]
  },
  {
   "cell_type": "markdown",
   "id": "bfa71911",
   "metadata": {},
   "source": [
    "I recommend Naive Bayes classifier model for future prediction."
   ]
  }
 ],
 "metadata": {
  "kernelspec": {
   "display_name": "Python 3 (ipykernel)",
   "language": "python",
   "name": "python3"
  },
  "language_info": {
   "codemirror_mode": {
    "name": "ipython",
    "version": 3
   },
   "file_extension": ".py",
   "mimetype": "text/x-python",
   "name": "python",
   "nbconvert_exporter": "python",
   "pygments_lexer": "ipython3",
   "version": "3.9.13"
  }
 },
 "nbformat": 4,
 "nbformat_minor": 5
}
